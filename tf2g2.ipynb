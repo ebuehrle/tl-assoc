{
  "nbformat": 4,
  "nbformat_minor": 0,
  "metadata": {
    "colab": {
      "provenance": [],
      "include_colab_link": true
    },
    "kernelspec": {
      "name": "python3",
      "display_name": "Python 3"
    },
    "language_info": {
      "name": "python"
    }
  },
  "cells": [
    {
      "cell_type": "markdown",
      "metadata": {
        "id": "view-in-github",
        "colab_type": "text"
      },
      "source": [
        "<a href=\"https://colab.research.google.com/github/ebuehrle/tl-assoc/blob/main/tf2g2.ipynb\" target=\"_parent\"><img src=\"https://colab.research.google.com/assets/colab-badge.svg\" alt=\"Open In Colab\"/></a>"
      ]
    },
    {
      "cell_type": "code",
      "source": [
        "!pip install gurobipy"
      ],
      "metadata": {
        "colab": {
          "base_uri": "https://localhost:8080/"
        },
        "id": "iqtPbr6ncjj0",
        "outputId": "ebc133e8-6457-4066-aa47-839bf0e13535"
      },
      "execution_count": 1,
      "outputs": [
        {
          "output_type": "stream",
          "name": "stdout",
          "text": [
            "Collecting gurobipy\n",
            "  Downloading gurobipy-10.0.2-cp310-cp310-manylinux2014_x86_64.whl (12.7 MB)\n",
            "\u001b[?25l     \u001b[90m━━━━━━━━━━━━━━━━━━━━━━━━━━━━━━━━━━━━━━━━\u001b[0m \u001b[32m0.0/12.7 MB\u001b[0m \u001b[31m?\u001b[0m eta \u001b[36m-:--:--\u001b[0m\r\u001b[2K     \u001b[91m━━━━━━━━━━━━━\u001b[0m\u001b[91m╸\u001b[0m\u001b[90m━━━━━━━━━━━━━━━━━━━━━━━━━━\u001b[0m \u001b[32m4.3/12.7 MB\u001b[0m \u001b[31m131.3 MB/s\u001b[0m eta \u001b[36m0:00:01\u001b[0m\r\u001b[2K     \u001b[91m━━━━━━━━━━━━━━━━━━━━━━━━━━━━\u001b[0m\u001b[91m╸\u001b[0m\u001b[90m━━━━━━━━━━━\u001b[0m \u001b[32m9.1/12.7 MB\u001b[0m \u001b[31m130.8 MB/s\u001b[0m eta \u001b[36m0:00:01\u001b[0m\r\u001b[2K     \u001b[91m━━━━━━━━━━━━━━━━━━━━━━━━━━━━━━━━━━━━━━\u001b[0m\u001b[91m╸\u001b[0m \u001b[32m12.7/12.7 MB\u001b[0m \u001b[31m146.1 MB/s\u001b[0m eta \u001b[36m0:00:01\u001b[0m\r\u001b[2K     \u001b[91m━━━━━━━━━━━━━━━━━━━━━━━━━━━━━━━━━━━━━━\u001b[0m\u001b[91m╸\u001b[0m \u001b[32m12.7/12.7 MB\u001b[0m \u001b[31m146.1 MB/s\u001b[0m eta \u001b[36m0:00:01\u001b[0m\r\u001b[2K     \u001b[90m━━━━━━━━━━━━━━━━━━━━━━━━━━━━━━━━━━━━━━━━\u001b[0m \u001b[32m12.7/12.7 MB\u001b[0m \u001b[31m74.6 MB/s\u001b[0m eta \u001b[36m0:00:00\u001b[0m\n",
            "\u001b[?25hInstalling collected packages: gurobipy\n",
            "Successfully installed gurobipy-10.0.2\n"
          ]
        }
      ]
    },
    {
      "cell_type": "code",
      "source": [
        "import gurobipy as gp\n",
        "from gurobipy import GRB\n",
        "import numpy as np\n",
        "import matplotlib.pyplot as plt"
      ],
      "metadata": {
        "id": "s1VUUr9AcnaJ"
      },
      "execution_count": 2,
      "outputs": []
    },
    {
      "cell_type": "code",
      "source": [
        "def rR(r1, r2):\n",
        "  return np.array([\n",
        "      [r1, -r2],\n",
        "      [r2, r1]\n",
        "  ])"
      ],
      "metadata": {
        "id": "tybqcUaOcob4"
      },
      "execution_count": 3,
      "outputs": []
    },
    {
      "cell_type": "code",
      "source": [
        "def rT(t1, t2):\n",
        "  return np.array([t1, t2])"
      ],
      "metadata": {
        "id": "MEqgj_mhcwOW"
      },
      "execution_count": 4,
      "outputs": []
    },
    {
      "cell_type": "code",
      "source": [
        "mean = lambda A: sum(A[i, :] for i in range(A.shape[0])) / A.shape[0]"
      ],
      "metadata": {
        "id": "S8uPwkmzhJZ2"
      },
      "execution_count": 5,
      "outputs": []
    },
    {
      "cell_type": "code",
      "source": [
        "X = np.array([\n",
        "\t[0, 2],\n",
        "\t[0.5, 1.5],\n",
        "\t[1, 2],\n",
        "\t[1, 3],\n",
        "])\n",
        "X"
      ],
      "metadata": {
        "colab": {
          "base_uri": "https://localhost:8080/"
        },
        "id": "fwRB3vDFc7Mg",
        "outputId": "0b2ca17f-c6d3-4f40-da4a-2a58e520d31c"
      },
      "execution_count": 6,
      "outputs": [
        {
          "output_type": "execute_result",
          "data": {
            "text/plain": [
              "array([[0. , 2. ],\n",
              "       [0.5, 1.5],\n",
              "       [1. , 2. ],\n",
              "       [1. , 3. ]])"
            ]
          },
          "metadata": {},
          "execution_count": 6
        }
      ]
    },
    {
      "cell_type": "code",
      "source": [
        "# Y2D = (X - mean(X)) @ rR(np.cos(0.1), np.sin(0.1)).T + rT(1., 0.5) + mean(X)\n",
        "Y2D = (X - mean(X)) @ rR(np.cos(0.2), np.sin(0.2)).T + rT(1., 0.5) + mean(X)\n",
        "Y2D = np.concatenate([\n",
        "    Y2D,\n",
        "    np.array([\n",
        "        [1.3, 1.5],\n",
        "        [3, 3],\n",
        "        [2.1, 2.3],\n",
        "        [-1.2, 3],\n",
        "    ])\n",
        "], 0)\n",
        "Y2D"
      ],
      "metadata": {
        "colab": {
          "base_uri": "https://localhost:8080/"
        },
        "id": "Hde-tQAndB_H",
        "outputId": "2a6f1581-7a47-4a8e-c68b-7df8aa062654"
      },
      "execution_count": 7,
      "outputs": [
        {
          "output_type": "execute_result",
          "data": {
            "text/plain": [
              "array([[ 1.03729206,  2.37832335],\n",
              "       [ 1.62666001,  1.98762472],\n",
              "       [ 2.01735863,  2.57699268],\n",
              "       [ 1.8186893 ,  3.55705925],\n",
              "       [ 1.3       ,  1.5       ],\n",
              "       [ 3.        ,  3.        ],\n",
              "       [ 2.1       ,  2.3       ],\n",
              "       [-1.2       ,  3.        ]])"
            ]
          },
          "metadata": {},
          "execution_count": 7
        }
      ]
    },
    {
      "cell_type": "code",
      "source": [
        "Y2D = np.array([[ 1.03729206,  2.37832335],\n",
        "       [ 1.62666001,  1.98762472],\n",
        "       #[ 2.01735863,  2.57699268],\n",
        "       [ 1.8186893 ,  3.55705925],\n",
        "       [ 1.3       ,  1.5       ],\n",
        "       [ 3.        ,  3.        ],\n",
        "       #[ 2.1       ,  2.3       ],\n",
        "       [-1.2       ,  3.        ]])"
      ],
      "metadata": {
        "id": "AR5DIggOGxjC"
      },
      "execution_count": 8,
      "outputs": []
    },
    {
      "cell_type": "code",
      "source": [
        "C1 = np.array([0., 0.])"
      ],
      "metadata": {
        "id": "VNiMRWg4eefj"
      },
      "execution_count": 9,
      "outputs": []
    },
    {
      "cell_type": "code",
      "source": [
        "C2 = np.array([1., 0.])"
      ],
      "metadata": {
        "id": "XkEoeSMKWXKe"
      },
      "execution_count": 10,
      "outputs": []
    },
    {
      "cell_type": "code",
      "source": [
        "Y1 = C1 + (Y2D - C1) / (Y2D - C1)[:, -1:]\n",
        "Y1"
      ],
      "metadata": {
        "colab": {
          "base_uri": "https://localhost:8080/"
        },
        "id": "V86qgF8-R1Fg",
        "outputId": "1de5880f-623e-4682-d585-7c1cc7f72ff3"
      },
      "execution_count": 11,
      "outputs": [
        {
          "output_type": "execute_result",
          "data": {
            "text/plain": [
              "array([[ 0.43614425,  1.        ],\n",
              "       [ 0.81839393,  1.        ],\n",
              "       [ 0.51129013,  1.        ],\n",
              "       [ 0.86666667,  1.        ],\n",
              "       [ 1.        ,  1.        ],\n",
              "       [-0.4       ,  1.        ]])"
            ]
          },
          "metadata": {},
          "execution_count": 11
        }
      ]
    },
    {
      "cell_type": "code",
      "source": [
        "Y2 = C2 + (Y2D - C2) / (Y2D - C2)[:, -1:]\n",
        "Y2"
      ],
      "metadata": {
        "colab": {
          "base_uri": "https://localhost:8080/"
        },
        "id": "LRW4Y_CrWb3D",
        "outputId": "a81cf483-6b3c-4d95-a47e-102f0e767471"
      },
      "execution_count": 12,
      "outputs": [
        {
          "output_type": "execute_result",
          "data": {
            "text/plain": [
              "array([[1.01567998, 1.        ],\n",
              "       [1.31528085, 1.        ],\n",
              "       [1.23015903, 1.        ],\n",
              "       [1.2       , 1.        ],\n",
              "       [1.66666667, 1.        ],\n",
              "       [0.26666667, 1.        ]])"
            ]
          },
          "metadata": {},
          "execution_count": 12
        }
      ]
    },
    {
      "cell_type": "code",
      "source": [
        "P = np.exp(-0.05*(X**2).sum(axis=1))\n",
        "P"
      ],
      "metadata": {
        "id": "7cr42grVd6zS",
        "colab": {
          "base_uri": "https://localhost:8080/"
        },
        "outputId": "45c485eb-9a83-41a7-e12e-549823e4985c"
      },
      "execution_count": 13,
      "outputs": [
        {
          "output_type": "execute_result",
          "data": {
            "text/plain": [
              "array([0.81873075, 0.8824969 , 0.77880078, 0.60653066])"
            ]
          },
          "metadata": {},
          "execution_count": 13
        }
      ]
    },
    {
      "cell_type": "code",
      "source": [
        "CC = np.eye(Y1.shape[0], Y2.shape[0])\n",
        "CC"
      ],
      "metadata": {
        "colab": {
          "base_uri": "https://localhost:8080/"
        },
        "id": "2J2Us4mlyW90",
        "outputId": "d7d296c1-20bc-4aeb-9d97-a0b49b3cdd40"
      },
      "execution_count": 14,
      "outputs": [
        {
          "output_type": "execute_result",
          "data": {
            "text/plain": [
              "array([[1., 0., 0., 0., 0., 0.],\n",
              "       [0., 1., 0., 0., 0., 0.],\n",
              "       [0., 0., 1., 0., 0., 0.],\n",
              "       [0., 0., 0., 1., 0., 0.],\n",
              "       [0., 0., 0., 0., 1., 0.],\n",
              "       [0., 0., 0., 0., 0., 1.]])"
            ]
          },
          "metadata": {},
          "execution_count": 14
        }
      ]
    },
    {
      "cell_type": "code",
      "source": [
        "L2 = lambda A: sum(A[i, :] @ A[i, :] for i in range(A.shape[0]))\n",
        "JC = lambda R, T, S1, N1, X, Y1, S2, N2, Y2: L2((X - mean(X)) @ R.T + mean(X) + T.T - (S1 @ (Y1 - C1) + C1) - N1) \\\n",
        "      + L2((X - mean(X)) @ R.T + mean(X) + T.T - (S2 @ (Y2 - C2) + C2) - N2) \\\n",
        "      + L2((S1 @ (Y1 - C1) + C1 + N1) - ((S2 @ (Y2 - C2)) + C2 + N2))"
      ],
      "metadata": {
        "id": "p61Q3_9pp31i"
      },
      "execution_count": 15,
      "outputs": []
    },
    {
      "cell_type": "code",
      "source": [
        "m = gp.Model()\n",
        "\n",
        "R = m.addMVar(shape=(2, 2), lb=-GRB.INFINITY)\n",
        "T = m.addMVar(shape=(2, 1), lb=-GRB.INFINITY)\n",
        "\n",
        "SB1 = m.addMVar(shape=(X.shape[0], Y1.shape[0]), vtype=GRB.BINARY)\n",
        "NB1 = m.addMVar(shape=(X.shape[0], 1), vtype=GRB.BINARY)\n",
        "[m.addSOS(GRB.SOS_TYPE1, SB1[i, :].tolist() + NB1[i].tolist()) for i in range(SB1.shape[0])]\n",
        "[m.addConstr(sum(SB1[i, :]) + sum(NB1[i, :]) >= 1) for i in range(SB1.shape[0])]\n",
        "[m.addSOS(GRB.SOS_TYPE1, SB1[:, i].tolist()) for i in range(SB1.shape[1])]\n",
        "\n",
        "S1 = m.addMVar(shape=SB1.shape)\n",
        "[m.addConstr((SB1[i, j] == 0) >> (S1[i, j] == 0)) for i in range(SB1.shape[0]) for j in range(SB1.shape[1])]\n",
        "N1 = m.addMVar(shape=(X.shape[0], Y1.shape[1]), lb=-GRB.INFINITY)\n",
        "[m.addConstr((NB1[i, 0] == 0) >> (N1[i, j] == 0)) for i in range(NB1.shape[0]) for j in range(Y1.shape[1])]\n",
        "\n",
        "SB2 = m.addMVar(shape=(X.shape[0], Y2.shape[0]), vtype=GRB.BINARY)\n",
        "NB2 = m.addMVar(shape=(X.shape[0], 1), vtype=GRB.BINARY)\n",
        "[m.addSOS(GRB.SOS_TYPE1, SB2[i, :].tolist() + NB2[i].tolist()) for i in range(SB2.shape[0])]\n",
        "[m.addConstr(sum(SB2[i, :]) + sum(NB2[i, :]) >= 1) for i in range(SB2.shape[0])]\n",
        "[m.addSOS(GRB.SOS_TYPE1, SB2[:, i].tolist()) for i in range(SB2.shape[1])]\n",
        "\n",
        "S2 = m.addMVar(shape=SB2.shape)\n",
        "[m.addConstr((SB2[i, j] == 0) >> (S2[i, j] == 0)) for i in range(SB2.shape[0]) for j in range(SB2.shape[1])]\n",
        "N2 = m.addMVar(shape=(X.shape[0], Y2.shape[1]), lb=-GRB.INFINITY)\n",
        "[m.addConstr((NB2[i, 0] == 0) >> (N2[i, j] == 0)) for i in range(NB2.shape[0]) for j in range(Y2.shape[1])]\n",
        "\n",
        "r1 = R[0, 0]\n",
        "r2 = R[1, 0]\n",
        "\n",
        "m.setObjective(100*JC(R, T, S1, N1, X, Y1, S2, N2, Y2) + NB1.T @ P + NB2.T @ P + (r1 - 1)*(r1 - 1) + r2*r2\n",
        "               - sum(SB1[i, :] @ CC @ SB2[i, :].T for i in range(SB1.shape[0])), GRB.MINIMIZE)\n",
        "m.addConstr(R[0, 0] == R[1, 1])\n",
        "m.addConstr(R[0, 1] == -R[1, 0])"
      ],
      "metadata": {
        "id": "iRhZ5XnPmmAs",
        "colab": {
          "base_uri": "https://localhost:8080/"
        },
        "outputId": "060bb9ba-bd4c-4a8f-ed45-0cb42087bc7e"
      },
      "execution_count": 16,
      "outputs": [
        {
          "output_type": "stream",
          "name": "stdout",
          "text": [
            "Restricted license - for non-production use only - expires 2024-10-28\n"
          ]
        },
        {
          "output_type": "execute_result",
          "data": {
            "text/plain": [
              "<MConstr () *awaiting model update*>"
            ]
          },
          "metadata": {},
          "execution_count": 16
        }
      ]
    },
    {
      "cell_type": "code",
      "source": [
        "m.optimize()"
      ],
      "metadata": {
        "colab": {
          "base_uri": "https://localhost:8080/"
        },
        "id": "NIGu5IfZAAGs",
        "outputId": "51e8de80-478b-4dbb-eda2-81940c9c2564"
      },
      "execution_count": 17,
      "outputs": [
        {
          "output_type": "stream",
          "name": "stdout",
          "text": [
            "Gurobi Optimizer version 10.0.2 build v10.0.2rc0 (linux64)\n",
            "\n",
            "CPU model: Intel(R) Xeon(R) CPU @ 2.20GHz, instruction set [SSE2|AVX|AVX2]\n",
            "Thread count: 1 physical cores, 2 logical processors, using up to 2 threads\n",
            "\n",
            "Optimize a model with 10 rows, 126 columns and 60 nonzeros\n",
            "Model fingerprint: 0xc3994a40\n",
            "Model has 896 quadratic objective terms\n",
            "Model has 20 SOS constraints\n",
            "Model has 64 general constraints\n",
            "Variable types: 70 continuous, 56 integer (56 binary)\n",
            "Coefficient statistics:\n",
            "  Matrix range     [1e+00, 1e+00]\n",
            "  Objective range  [6e-01, 3e+03]\n",
            "  QObjective range [8e-01, 2e+03]\n",
            "  Bounds range     [1e+00, 1e+00]\n",
            "  RHS range        [1e+00, 1e+00]\n",
            "  GenCon coe range [1e+00, 1e+00]\n",
            "Presolve added 52 rows and 40 columns\n",
            "Presolve time: 0.01s\n",
            "Presolved: 62 rows, 166 columns, 188 nonzeros\n",
            "Presolved model has 64 SOS constraint(s)\n",
            "Presolved model has 944 quadratic objective terms\n",
            "Variable types: 70 continuous, 96 integer (96 binary)\n",
            "Found heuristic solution: objective 602.3199358\n",
            "\n",
            "Root relaxation: objective -4.000000e+00, 212 iterations, 0.01 seconds (0.00 work units)\n",
            "\n",
            "    Nodes    |    Current Node    |     Objective Bounds      |     Work\n",
            " Expl Unexpl |  Obj  Depth IntInf | Incumbent    BestBd   Gap | It/Node Time\n",
            "\n",
            "     0     0   -4.00000    0   11  602.31994   -4.00000   101%     -    0s\n",
            "H    0     0                     319.8404625   -4.00000   101%     -    0s\n",
            "     0     0   -4.00000    0   11  319.84046   -4.00000   101%     -    0s\n",
            "H    0     0                      96.8232499   -4.00000   104%     -    0s\n",
            "     0     2   -4.00000    0   11   96.82325   -4.00000   104%     -    0s\n",
            "H    6     6                      64.0344940   -4.00000   106%  15.2    0s\n",
            "H    8     8                       4.9792867   -4.00000   180%  14.4    0s\n",
            "H   78    46                       4.0977461   -4.00000   198%   8.5    0s\n",
            "*   88    46              28       3.4805986   -4.00000   215%   7.9    0s\n",
            "*   89    45              28       2.8493537   -4.00000   240%   7.8    0s\n",
            "H  104    56                       2.7542047   -4.00000   245%   8.1    0s\n",
            "H  130    70                       2.7454088   -4.00000   246%   7.7    0s\n",
            "H  156    92                       2.6918505   -4.00000   249%   8.1    0s\n",
            "*  178   100              31       2.2167332   -4.00000   280%   7.8    0s\n",
            "H  182   100                       1.6138371   -4.00000   348%   7.7    0s\n",
            "H  208   118                       1.6128493   -4.00000   348%   7.5    0s\n",
            "H  260   152                       1.6125301   -4.00000   348%   8.4    0s\n",
            "H  338   180                       1.6122669   -4.00000   348%   8.0    0s\n",
            "*  814   333              34       1.5001491   -4.00000   367%   8.1    0s\n",
            "* 1192   316              30       1.4910119   -4.00000   368%   8.0    0s\n",
            "H 1264   288                       0.8882356   -3.99999   550%   7.8    0s\n",
            "* 1954   393              41       0.8498792   -3.39411   499%   7.2    1s\n",
            "H 3254   499                       0.3061479   -2.63895   962%   7.0    1s\n",
            "H 4052   551                      -0.5077475   -2.51098   395%   7.1    1s\n",
            "H 6304   551                      -0.5207778   -2.07923   299%   6.9    2s\n",
            "H 6312   460                      -0.7992825   -2.07923   160%   6.9    2s\n",
            "H 7108    15                      -1.4017802   -1.44214  2.88%   6.8    2s\n",
            "* 7110    15              31      -1.4026788   -1.44214  2.81%   6.8    2s\n",
            "\n",
            "Explored 7126 nodes (48603 simplex iterations) in 2.46 seconds (0.60 work units)\n",
            "Thread count was 2 (of 2 available processors)\n",
            "\n",
            "Solution count 10: -1.40268 -0.799283 -0.507747 ... 2.21673\n",
            "No other solutions better than -1.40268\n",
            "\n",
            "Optimal solution found (tolerance 1.00e-04)\n",
            "Best objective -1.402678830364e+00, best bound -1.402678830362e+00, gap 0.0000%\n"
          ]
        }
      ]
    },
    {
      "cell_type": "code",
      "source": [
        "R.X"
      ],
      "metadata": {
        "colab": {
          "base_uri": "https://localhost:8080/"
        },
        "id": "qtZyd0RPFSAh",
        "outputId": "f4df8808-1399-4816-cc56-6f64c921cbf7"
      },
      "execution_count": 18,
      "outputs": [
        {
          "output_type": "execute_result",
          "data": {
            "text/plain": [
              "array([[ 0.98005819, -0.19792735],\n",
              "       [ 0.19792735,  0.98005819]])"
            ]
          },
          "metadata": {},
          "execution_count": 18
        }
      ]
    },
    {
      "cell_type": "code",
      "source": [
        "T.X"
      ],
      "metadata": {
        "id": "60J_T8xHl7v1",
        "colab": {
          "base_uri": "https://localhost:8080/"
        },
        "outputId": "d1e142f6-0fec-42e1-f7cd-d437ac97cddb"
      },
      "execution_count": 19,
      "outputs": [
        {
          "output_type": "execute_result",
          "data": {
            "text/plain": [
              "array([[0.99989086],\n",
              "       [0.49977236]])"
            ]
          },
          "metadata": {},
          "execution_count": 19
        }
      ]
    },
    {
      "cell_type": "code",
      "source": [
        "S1.X"
      ],
      "metadata": {
        "id": "F5M926fymiUm",
        "colab": {
          "base_uri": "https://localhost:8080/"
        },
        "outputId": "4dc0b3b5-3b3d-4f5a-e4b3-5cfddc583f7f"
      },
      "execution_count": 20,
      "outputs": [
        {
          "output_type": "execute_result",
          "data": {
            "text/plain": [
              "array([[2.37846701, 0.        , 0.        , 0.        , 0.        ,\n",
              "        0.        ],\n",
              "       [0.        , 1.98732891, 0.        , 0.        , 0.        ,\n",
              "        0.        ],\n",
              "       [0.        , 0.        , 0.        , 0.        , 0.        ,\n",
              "        0.        ],\n",
              "       [0.        , 0.        , 3.5568284 , 0.        , 0.        ,\n",
              "        0.        ]])"
            ]
          },
          "metadata": {},
          "execution_count": 20
        }
      ]
    },
    {
      "cell_type": "code",
      "source": [
        "S2.X"
      ],
      "metadata": {
        "colab": {
          "base_uri": "https://localhost:8080/"
        },
        "id": "V62IlBJGiWd1",
        "outputId": "1c85a8b1-0e94-4a59-bb7e-4834096be793"
      },
      "execution_count": 21,
      "outputs": [
        {
          "output_type": "execute_result",
          "data": {
            "text/plain": [
              "array([[2.37851265, 0.        , 0.        , 0.        , 0.        ,\n",
              "        0.        ],\n",
              "       [0.        , 1.98731452, 0.        , 0.        , 0.        ,\n",
              "        0.        ],\n",
              "       [0.        , 0.        , 0.        , 0.        , 0.        ,\n",
              "        0.        ],\n",
              "       [0.        , 0.        , 3.55675172, 0.        , 0.        ,\n",
              "        0.        ]])"
            ]
          },
          "metadata": {},
          "execution_count": 21
        }
      ]
    },
    {
      "cell_type": "code",
      "source": [
        "NB1.X"
      ],
      "metadata": {
        "id": "hrhUpUY4mkPk",
        "colab": {
          "base_uri": "https://localhost:8080/"
        },
        "outputId": "cced611b-2a9d-4757-a9a8-1569d342e419"
      },
      "execution_count": 22,
      "outputs": [
        {
          "output_type": "execute_result",
          "data": {
            "text/plain": [
              "array([[0.],\n",
              "       [0.],\n",
              "       [1.],\n",
              "       [0.]])"
            ]
          },
          "metadata": {},
          "execution_count": 22
        }
      ]
    },
    {
      "cell_type": "code",
      "source": [
        "N1.X"
      ],
      "metadata": {
        "colab": {
          "base_uri": "https://localhost:8080/"
        },
        "id": "3Aq8pjle2KTv",
        "outputId": "cd9dc3c7-5f96-4654-fdfb-8de1ba7d502d"
      },
      "execution_count": 23,
      "outputs": [
        {
          "output_type": "execute_result",
          "data": {
            "text/plain": [
              "array([[0.        , 0.        ],\n",
              "       [0.        , 0.        ],\n",
              "       [2.0171536 , 2.57648785],\n",
              "       [0.        , 0.        ]])"
            ]
          },
          "metadata": {},
          "execution_count": 23
        }
      ]
    },
    {
      "cell_type": "code",
      "source": [
        "NB2.X"
      ],
      "metadata": {
        "colab": {
          "base_uri": "https://localhost:8080/"
        },
        "id": "H-7ozUk1iVDZ",
        "outputId": "b9e4687b-6337-4dde-a448-4561b6b3dce2"
      },
      "execution_count": 24,
      "outputs": [
        {
          "output_type": "execute_result",
          "data": {
            "text/plain": [
              "array([[0.],\n",
              "       [0.],\n",
              "       [1.],\n",
              "       [0.]])"
            ]
          },
          "metadata": {},
          "execution_count": 24
        }
      ]
    },
    {
      "cell_type": "code",
      "source": [
        "N2.X"
      ],
      "metadata": {
        "colab": {
          "base_uri": "https://localhost:8080/"
        },
        "id": "Yea16qh32Lxg",
        "outputId": "ef31cc70-19eb-4cd6-b390-3e9e74b64e6b"
      },
      "execution_count": 25,
      "outputs": [
        {
          "output_type": "execute_result",
          "data": {
            "text/plain": [
              "array([[0.        , 0.        ],\n",
              "       [0.        , 0.        ],\n",
              "       [1.0171536 , 2.57648785],\n",
              "       [0.        , 0.        ]])"
            ]
          },
          "metadata": {},
          "execution_count": 25
        }
      ]
    },
    {
      "cell_type": "code",
      "source": [
        "YT1 = S1.X @ (Y1 - C1) + C1"
      ],
      "metadata": {
        "id": "dxVN8gZHU0jV"
      },
      "execution_count": 26,
      "outputs": []
    },
    {
      "cell_type": "code",
      "source": [
        "YT2 = S2.X @ (Y2 - C2) + C2"
      ],
      "metadata": {
        "id": "xv19mbyGZRLm"
      },
      "execution_count": 27,
      "outputs": []
    },
    {
      "cell_type": "code",
      "source": [
        "XT = (X - mean(X)) @ R.X.T + mean(X) + T.X.T\n",
        "plt.scatter(X[:,0], X[:,1])\n",
        "plt.scatter(Y2D[:,0], Y2D[:,1])\n",
        "plt.scatter(Y1[:,0], Y1[:,1])\n",
        "plt.scatter(Y2[:,0], Y2[:,1])\n",
        "plt.scatter(XT[:,0], XT[:,1], marker='x')\n",
        "plt.scatter(YT1[:,0], YT1[:,1])\n",
        "plt.scatter(YT2[:,0], YT2[:,1])\n",
        "plt.legend((\"map\", \"objects\", \"detections (image1)\", \"detections (image2)\", \"transformed\", \"estimated1\", \"estimated2\"))\n",
        "\n",
        "P0 = X\n",
        "P1 = XT\n",
        "#P0 = P0[N.X==0, :]\n",
        "#P1 = P1[N.X==0, :]\n",
        "plt.plot(\n",
        "  np.stack([P0[:,0], P1[:,0]], 1).T,\n",
        "  np.stack([P0[:,1], P1[:,1]], 1).T,\n",
        "  'k--'\n",
        ")\n",
        "\n",
        "P0 = XT\n",
        "P1 = YT1\n",
        "P0 = P0[NB1.X.squeeze()==0, :]\n",
        "P1 = P1[NB1.X.squeeze()==0, :]\n",
        "plt.plot(\n",
        "  np.stack([P0[:,0], P1[:,0]], 1).T,\n",
        "  np.stack([P0[:,1], P1[:,1]], 1).T,\n",
        "  'k--'\n",
        ")\n",
        "\n",
        "P0 = X\n",
        "P1 = SB1.X @ Y2D\n",
        "P0 = P0[NB1.X.squeeze()==0, :]\n",
        "P1 = P1[NB1.X.squeeze()==0, :]\n",
        "plt.plot(\n",
        "  np.stack([P0[:,0], P1[:,0]], 1).T,\n",
        "  np.stack([P0[:,1], P1[:,1]], 1).T,\n",
        "  'b--'\n",
        ")\n",
        "\n",
        "P0 = X\n",
        "P1 = SB2.X @ Y2D\n",
        "P0 = P0[NB2.X.squeeze()==0, :]\n",
        "P1 = P1[NB2.X.squeeze()==0, :]\n",
        "plt.plot(\n",
        "  np.stack([P0[:,0], P1[:,0]], 1).T,\n",
        "  np.stack([P0[:,1], P1[:,1]], 1).T,\n",
        "  'r--'\n",
        ")\n",
        "\n",
        "P0 = np.tile(C1, (YT1.shape[0], 1))\n",
        "P1 = YT1\n",
        "plt.plot(\n",
        "  np.stack([P0[:,0], P1[:,0]], 1).T,\n",
        "  np.stack([P0[:,1], P1[:,1]], 1).T,\n",
        "  'k:'\n",
        ")\n",
        "\n",
        "P0 = np.tile(C2, (YT2.shape[0], 1))\n",
        "P1 = YT2\n",
        "plt.plot(\n",
        "  np.stack([P0[:,0], P1[:,0]], 1).T,\n",
        "  np.stack([P0[:,1], P1[:,1]], 1).T,\n",
        "  'k:'\n",
        ")\n",
        "\n",
        "plt.show()"
      ],
      "metadata": {
        "id": "ktwfwnMvmuvO",
        "colab": {
          "base_uri": "https://localhost:8080/",
          "height": 430
        },
        "outputId": "2ffdf923-ecb4-4b7a-fe59-e48e12becba5"
      },
      "execution_count": 28,
      "outputs": [
        {
          "output_type": "display_data",
          "data": {
            "text/plain": [
              "<Figure size 640x480 with 1 Axes>"
            ],
            "image/png": "[encoded data removed]"
          },
          "metadata": {}
        }
      ]
    },
    {
      "cell_type": "code",
      "source": [
        "scale = np.sqrt(r1.X**2+r2.X**2)\n",
        "scale"
      ],
      "metadata": {
        "id": "djdUwk2rnUNd",
        "colab": {
          "base_uri": "https://localhost:8080/"
        },
        "outputId": "7c158afb-352a-475e-e813-7ab3f507c2cf"
      },
      "execution_count": 29,
      "outputs": [
        {
          "output_type": "execute_result",
          "data": {
            "text/plain": [
              "0.9998446360614955"
            ]
          },
          "metadata": {},
          "execution_count": 29
        }
      ]
    },
    {
      "cell_type": "code",
      "source": [
        "rotation = np.arctan2(r2.X, r1.X)\n",
        "rotation"
      ],
      "metadata": {
        "id": "oLpvqD4InyZU",
        "colab": {
          "base_uri": "https://localhost:8080/"
        },
        "outputId": "00d4ead8-5a16-4480-bbf2-5aeb60f8da59"
      },
      "execution_count": 30,
      "outputs": [
        {
          "output_type": "execute_result",
          "data": {
            "text/plain": [
              "0.19927436510128177"
            ]
          },
          "metadata": {},
          "execution_count": 30
        }
      ]
    },
    {
      "cell_type": "code",
      "source": [
        "translation = T.X\n",
        "translation"
      ],
      "metadata": {
        "id": "D5vdBjHzn4OI",
        "colab": {
          "base_uri": "https://localhost:8080/"
        },
        "outputId": "34235171-f261-4bcd-b43b-3c877c3b53f7"
      },
      "execution_count": 31,
      "outputs": [
        {
          "output_type": "execute_result",
          "data": {
            "text/plain": [
              "array([[0.99989086],\n",
              "       [0.49977236]])"
            ]
          },
          "metadata": {},
          "execution_count": 31
        }
      ]
    },
    {
      "cell_type": "code",
      "source": [],
      "metadata": {
        "id": "6-96CsAWoCYU"
      },
      "execution_count": 31,
      "outputs": []
    }
  ]
}