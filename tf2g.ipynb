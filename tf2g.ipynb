{
  "nbformat": 4,
  "nbformat_minor": 0,
  "metadata": {
    "colab": {
      "provenance": [],
      "include_colab_link": true
    },
    "kernelspec": {
      "name": "python3",
      "display_name": "Python 3"
    },
    "language_info": {
      "name": "python"
    }
  },
  "cells": [
    {
      "cell_type": "markdown",
      "metadata": {
        "id": "view-in-github",
        "colab_type": "text"
      },
      "source": [
        "<a href=\"https://colab.research.google.com/github/ebuehrle/tl-assoc/blob/main/tf2g.ipynb\" target=\"_parent\"><img src=\"https://colab.research.google.com/assets/colab-badge.svg\" alt=\"Open In Colab\"/></a>"
      ]
    },
    {
      "cell_type": "code",
      "source": [
        "!pip install gurobipy"
      ],
      "metadata": {
        "colab": {
          "base_uri": "https://localhost:8080/"
        },
        "id": "iqtPbr6ncjj0",
        "outputId": "28e1e6f0-8267-465b-e551-ee5c2cbdfa37"
      },
      "execution_count": null,
      "outputs": [
        {
          "output_type": "stream",
          "name": "stdout",
          "text": [
            "Collecting gurobipy\n",
            "  Downloading gurobipy-10.0.2-cp310-cp310-manylinux2014_x86_64.whl (12.7 MB)\n",
            "\u001b[2K     \u001b[90m━━━━━━━━━━━━━━━━━━━━━━━━━━━━━━━━━━━━━━━━\u001b[0m \u001b[32m12.7/12.7 MB\u001b[0m \u001b[31m51.3 MB/s\u001b[0m eta \u001b[36m0:00:00\u001b[0m\n",
            "\u001b[?25hInstalling collected packages: gurobipy\n",
            "Successfully installed gurobipy-10.0.2\n"
          ]
        }
      ]
    },
    {
      "cell_type": "code",
      "source": [
        "import gurobipy as gp\n",
        "from gurobipy import GRB\n",
        "import numpy as np\n",
        "import matplotlib.pyplot as plt"
      ],
      "metadata": {
        "id": "s1VUUr9AcnaJ"
      },
      "execution_count": null,
      "outputs": []
    },
    {
      "cell_type": "code",
      "source": [
        "def rR(r1, r2):\n",
        "  return np.array([\n",
        "      [r1, -r2],\n",
        "      [r2, r1]\n",
        "  ])"
      ],
      "metadata": {
        "id": "tybqcUaOcob4"
      },
      "execution_count": null,
      "outputs": []
    },
    {
      "cell_type": "code",
      "source": [
        "def rT(t1, t2):\n",
        "  return np.array([t1, t2])"
      ],
      "metadata": {
        "id": "MEqgj_mhcwOW"
      },
      "execution_count": null,
      "outputs": []
    },
    {
      "cell_type": "code",
      "source": [
        "X = 10*np.array([\n",
        "\t[0, 0],\n",
        "\t[0.5, 0.5],\n",
        "\t[0.25, 0.5],\n",
        "\t[1, 0],\n",
        "\t[1, 1],\n",
        "])\n",
        "X"
      ],
      "metadata": {
        "colab": {
          "base_uri": "https://localhost:8080/"
        },
        "id": "fwRB3vDFc7Mg",
        "outputId": "72fa6858-bc35-4450-f0cc-41d2333ce5c0"
      },
      "execution_count": null,
      "outputs": [
        {
          "output_type": "execute_result",
          "data": {
            "text/plain": [
              "array([[ 0. ,  0. ],\n",
              "       [ 5. ,  5. ],\n",
              "       [ 2.5,  5. ],\n",
              "       [10. ,  0. ],\n",
              "       [10. , 10. ]])"
            ]
          },
          "metadata": {},
          "execution_count": 5
        }
      ]
    },
    {
      "cell_type": "code",
      "source": [
        "Y = X @ rR(np.cos(0.1), np.sin(0.1)).T + rT(1., 0.5)\n",
        "Y = np.concatenate([\n",
        "    Y,\n",
        "    5*np.array([\n",
        "      [1.3, 0.5],\n",
        "      [3, 3],\n",
        "      [0, 2],\n",
        "      [-1.3, -0.5],\n",
        "      [0.9, 0.8],\n",
        "      [2.1, 0],\n",
        "      [0.01, -0.1],\n",
        "    ])\n",
        "], 0)\n",
        "Y"
      ],
      "metadata": {
        "colab": {
          "base_uri": "https://localhost:8080/"
        },
        "id": "Hde-tQAndB_H",
        "outputId": "efe916a5-6156-41f6-b39a-d5d035eb1e9b"
      },
      "execution_count": null,
      "outputs": [
        {
          "output_type": "execute_result",
          "data": {
            "text/plain": [
              "array([[ 1.        ,  0.5       ],\n",
              "       [ 5.47585374,  5.97418791],\n",
              "       [ 2.98834333,  5.72460437],\n",
              "       [10.95004165,  1.49833417],\n",
              "       [ 9.95170749, 11.44837582],\n",
              "       [ 6.5       ,  2.5       ],\n",
              "       [15.        , 15.        ],\n",
              "       [ 0.        , 10.        ],\n",
              "       [-6.5       , -2.5       ],\n",
              "       [ 4.5       ,  4.        ],\n",
              "       [10.5       ,  0.        ],\n",
              "       [ 0.05      , -0.5       ]])"
            ]
          },
          "metadata": {},
          "execution_count": 6
        }
      ]
    },
    {
      "cell_type": "code",
      "source": [
        "Y = np.array([[ 1.        ,  0.5       ],\n",
        "       [ 5.47585374,  5.97418791],\n",
        "       [ 2.98834333,  5.72460437],\n",
        "       #[10.95004165,  1.49833417],\n",
        "       [ 9.95170749, 11.44837582],\n",
        "       [ 6.5       ,  2.5       ],\n",
        "       [15.        , 15.        ],\n",
        "       [ 0.        , 10.        ],\n",
        "       [-6.5       , -2.5       ],\n",
        "       [ 4.5       ,  4.        ],\n",
        "       #[10.5       ,  0.        ],\n",
        "       #[ 0.05      , -0.5       ]\n",
        "       ])"
      ],
      "metadata": {
        "id": "KXtC2-KnLqHU"
      },
      "execution_count": null,
      "outputs": []
    },
    {
      "cell_type": "code",
      "source": [
        "P = np.exp(-0.002*(X**2).sum(axis=1))\n",
        "P"
      ],
      "metadata": {
        "id": "7cr42grVd6zS",
        "colab": {
          "base_uri": "https://localhost:8080/"
        },
        "outputId": "28e2dd26-2f61-43fd-9b65-a70360f72b0b"
      },
      "execution_count": null,
      "outputs": [
        {
          "output_type": "execute_result",
          "data": {
            "text/plain": [
              "array([1.        , 0.90483742, 0.93941306, 0.81873075, 0.67032005])"
            ]
          },
          "metadata": {},
          "execution_count": 8
        }
      ]
    },
    {
      "cell_type": "code",
      "source": [
        "L2 = lambda A: sum(A[i, :] @ A[i, :] for i in range(A.shape[0]))\n",
        "#JC = lambda R, T, S, N, X, Y: L2(X @ R.T + T.T - S @ Y - N * X)\n",
        "JC = lambda R, T, S, N, X, Y: L2(X @ R.T + T.T - S @ Y - N)"
      ],
      "metadata": {
        "id": "p61Q3_9pp31i"
      },
      "execution_count": null,
      "outputs": []
    },
    {
      "cell_type": "code",
      "source": [
        "m = gp.Model(\"tf\")\n",
        "\n",
        "R = m.addMVar(shape=(2, 2), lb=-GRB.INFINITY)\n",
        "T = m.addMVar(shape=(2, 1), lb=-GRB.INFINITY)\n",
        "A = m.addMVar(shape=(X.shape[0], Y.shape[0] + 1), vtype=GRB.BINARY)\n",
        "SB = A[:, :-1]\n",
        "NB = A[:, -1:]\n",
        "r1 = R[0, 0]\n",
        "r2 = R[1, 0]\n",
        "\n",
        "N = m.addMVar(shape=(X.shape[0], Y.shape[1]), lb=-GRB.INFINITY)\n",
        "[m.addConstr((NB[i, 0] == 0) >> (N[i, j] == 0)) for i in range(NB.shape[0]) for j in range(Y.shape[1])]\n",
        "\n",
        "#m.setObjective(JC(R, T, SB, N, X, Y) + 5*(r1 - 1)*(r1 - 1) + 5*r2*r2 + NB.T @ P, GRB.MINIMIZE)\n",
        "m.setObjective(JC(R, T, SB, N, X, Y) + NB.T @ P, GRB.MINIMIZE)\n",
        "[m.addConstr(sum(A[i, :]) == 1) for i in range(A.shape[0])]\n",
        "[m.addConstr(sum(A[:, i]) <= 1) for i in range(A.shape[1]-1)]\n",
        "m.addConstr(R[0, 0] == R[1, 1])\n",
        "m.addConstr(R[0, 1] == -R[1, 0])"
      ],
      "metadata": {
        "id": "iRhZ5XnPmmAs",
        "colab": {
          "base_uri": "https://localhost:8080/"
        },
        "outputId": "ac450698-16ee-4446-a435-e57b34edda93"
      },
      "execution_count": null,
      "outputs": [
        {
          "output_type": "stream",
          "name": "stdout",
          "text": [
            "Restricted license - for non-production use only - expires 2024-10-28\n"
          ]
        },
        {
          "output_type": "execute_result",
          "data": {
            "text/plain": [
              "<MConstr () *awaiting model update*>"
            ]
          },
          "metadata": {},
          "execution_count": 10
        }
      ]
    },
    {
      "cell_type": "code",
      "source": [
        "m.optimize()"
      ],
      "metadata": {
        "colab": {
          "base_uri": "https://localhost:8080/"
        },
        "id": "NIGu5IfZAAGs",
        "outputId": "d89167c5-8750-4b4b-a17b-cf9ed7d60759"
      },
      "execution_count": null,
      "outputs": [
        {
          "output_type": "stream",
          "name": "stdout",
          "text": [
            "Gurobi Optimizer version 10.0.2 build v10.0.2rc0 (linux64)\n",
            "\n",
            "CPU model: Intel(R) Xeon(R) CPU @ 2.20GHz, instruction set [SSE2|AVX|AVX2]\n",
            "Thread count: 1 physical cores, 2 logical processors, using up to 2 threads\n",
            "\n",
            "Optimize a model with 16 rows, 66 columns and 99 nonzeros\n",
            "Model fingerprint: 0x73083f07\n",
            "Model has 560 quadratic objective terms\n",
            "Model has 10 general constraints\n",
            "Variable types: 16 continuous, 50 integer (50 binary)\n",
            "Coefficient statistics:\n",
            "  Matrix range     [1e+00, 1e+00]\n",
            "  Objective range  [7e-01, 1e+00]\n",
            "  QObjective range [2e+00, 1e+03]\n",
            "  Bounds range     [1e+00, 1e+00]\n",
            "  RHS range        [1e+00, 1e+00]\n",
            "  GenCon coe range [1e+00, 1e+00]\n",
            "Presolve time: 0.01s\n",
            "Presolved: 16 rows, 66 columns, 99 nonzeros\n",
            "Presolved model has 10 SOS constraint(s)\n",
            "Presolved model has 560 quadratic objective terms\n",
            "Variable types: 16 continuous, 50 integer (50 binary)\n",
            "Found heuristic solution: objective 4.3333013\n",
            "\n",
            "Root relaxation: objective 8.881784e-16, 49 iterations, 0.00 seconds (0.00 work units)\n",
            "\n",
            "    Nodes    |    Current Node    |     Objective Bounds      |     Work\n",
            " Expl Unexpl |  Obj  Depth IntInf | Incumbent    BestBd   Gap | It/Node Time\n",
            "\n",
            "     0     0    0.00000    0   17    4.33330    0.00000   100%     -    0s\n",
            "H    0     0                       4.1942312    0.00000   100%     -    0s\n",
            "H    0     0                       4.1175267    0.00000   100%     -    0s\n",
            "     0     0    0.00000    0   17    4.11753    0.00000   100%     -    0s\n",
            "     0     2    0.00000    0   17    4.11753    0.00000   100%     -    0s\n",
            "H    9     9                       3.6629812    0.00000   100%   9.8    0s\n",
            "*  195    30               6       2.3938882    0.00000   100%   9.6    0s\n",
            "H  326    22                       1.9025626    0.67032  64.8%   9.5    0s\n",
            "*  526    19              18       1.4890508    0.81873  45.0%   9.2    0s\n",
            "*  527     0              18       0.8187308    0.81873  0.00%   9.2    0s\n",
            "\n",
            "Explored 528 nodes (4885 simplex iterations) in 0.42 seconds (0.04 work units)\n",
            "Thread count was 2 (of 2 available processors)\n",
            "\n",
            "Solution count 8: 0.818731 1.48905 1.90256 ... 4.3333\n",
            "\n",
            "Optimal solution found (tolerance 1.00e-04)\n",
            "Best objective 8.187307530780e-01, best bound 8.187307530780e-01, gap 0.0000%\n"
          ]
        }
      ]
    },
    {
      "cell_type": "code",
      "source": [
        "R.X"
      ],
      "metadata": {
        "colab": {
          "base_uri": "https://localhost:8080/"
        },
        "id": "qtZyd0RPFSAh",
        "outputId": "fa9a1aaf-1521-4cb7-8e75-2548f33f90b4"
      },
      "execution_count": null,
      "outputs": [
        {
          "output_type": "execute_result",
          "data": {
            "text/plain": [
              "array([[ 0.99500416, -0.09983342],\n",
              "       [ 0.09983342,  0.99500416]])"
            ]
          },
          "metadata": {},
          "execution_count": 12
        }
      ]
    },
    {
      "cell_type": "code",
      "source": [
        "T.X"
      ],
      "metadata": {
        "id": "60J_T8xHl7v1",
        "colab": {
          "base_uri": "https://localhost:8080/"
        },
        "outputId": "1a9c1701-1182-40a0-d3f8-bd62d81eb4b3"
      },
      "execution_count": null,
      "outputs": [
        {
          "output_type": "execute_result",
          "data": {
            "text/plain": [
              "array([[1.        ],\n",
              "       [0.50000001]])"
            ]
          },
          "metadata": {},
          "execution_count": 13
        }
      ]
    },
    {
      "cell_type": "code",
      "source": [
        "SB.X"
      ],
      "metadata": {
        "id": "F5M926fymiUm",
        "colab": {
          "base_uri": "https://localhost:8080/"
        },
        "outputId": "617b2a0b-9994-4501-92ad-16f60b4dfd64"
      },
      "execution_count": null,
      "outputs": [
        {
          "output_type": "execute_result",
          "data": {
            "text/plain": [
              "array([[ 1.00000000e+00, -0.00000000e+00, -0.00000000e+00,\n",
              "        -0.00000000e+00, -0.00000000e+00, -0.00000000e+00,\n",
              "        -0.00000000e+00, -0.00000000e+00,  0.00000000e+00],\n",
              "       [ 0.00000000e+00,  1.00000000e+00, -0.00000000e+00,\n",
              "        -0.00000000e+00, -0.00000000e+00, -0.00000000e+00,\n",
              "        -0.00000000e+00, -0.00000000e+00, -0.00000000e+00],\n",
              "       [-0.00000000e+00, -0.00000000e+00,  1.00000000e+00,\n",
              "        -0.00000000e+00, -0.00000000e+00, -0.00000000e+00,\n",
              "        -0.00000000e+00, -0.00000000e+00,  0.00000000e+00],\n",
              "       [ 0.00000000e+00, -0.00000000e+00, -0.00000000e+00,\n",
              "        -0.00000000e+00, -0.00000000e+00, -0.00000000e+00,\n",
              "        -0.00000000e+00, -0.00000000e+00, -0.00000000e+00],\n",
              "       [-0.00000000e+00, -0.00000000e+00, -0.00000000e+00,\n",
              "         9.99999998e-01,  1.01166779e-09, -0.00000000e+00,\n",
              "         6.53951854e-10, -0.00000000e+00, -0.00000000e+00]])"
            ]
          },
          "metadata": {},
          "execution_count": 14
        }
      ]
    },
    {
      "cell_type": "code",
      "source": [
        "NB.X"
      ],
      "metadata": {
        "id": "hrhUpUY4mkPk",
        "colab": {
          "base_uri": "https://localhost:8080/"
        },
        "outputId": "a9e4d983-05d9-4bc8-ac65-5e15b2a013c8"
      },
      "execution_count": null,
      "outputs": [
        {
          "output_type": "execute_result",
          "data": {
            "text/plain": [
              "array([[0.],\n",
              "       [0.],\n",
              "       [0.],\n",
              "       [1.],\n",
              "       [0.]])"
            ]
          },
          "metadata": {},
          "execution_count": 15
        }
      ]
    },
    {
      "cell_type": "code",
      "source": [
        "XT = X @ R.X.T + T.X.T\n",
        "plt.scatter(X[:,0], X[:,1])\n",
        "plt.scatter(Y[:,0], Y[:,1])\n",
        "plt.scatter(XT[:,0], XT[:,1], marker='x')\n",
        "plt.legend((\"map\", \"detections\", \"transformed\"))\n",
        "\n",
        "P0 = X\n",
        "P1 = XT\n",
        "#P0 = P0[N.X==0, :]\n",
        "#P1 = P1[N.X==0, :]\n",
        "plt.plot(\n",
        "  np.stack([P0[:,0], P1[:,0]], 1).T,\n",
        "  np.stack([P0[:,1], P1[:,1]], 1).T,\n",
        "  'k--'\n",
        ")\n",
        "\n",
        "P0 = X\n",
        "P1 = SB.X @ Y\n",
        "P0 = P0[NB.X.squeeze()==0, :]\n",
        "P1 = P1[NB.X.squeeze()==0, :]\n",
        "plt.plot(\n",
        "  np.stack([P0[:,0], P1[:,0]], 1).T,\n",
        "  np.stack([P0[:,1], P1[:,1]], 1).T,\n",
        "  'b--'\n",
        ")\n",
        "\n",
        "plt.show()"
      ],
      "metadata": {
        "id": "ktwfwnMvmuvO",
        "colab": {
          "base_uri": "https://localhost:8080/",
          "height": 54
        },
        "outputId": "26fb8f52-640b-467b-e2df-88839ff162be"
      },
      "execution_count": null,
      "outputs": [
        {
          "output_type": "display_data",
          "data": {
            "text/plain": [
              "<Figure size 640x480 with 1 Axes>"
            ],
            "image/png": "[encoded data removed]"
          },
          "metadata": {}
        }
      ]
    },
    {
      "cell_type": "code",
      "source": [
        "scale = np.sqrt(r1.X**2+r2.X**2)\n",
        "scale"
      ],
      "metadata": {
        "id": "djdUwk2rnUNd",
        "colab": {
          "base_uri": "https://localhost:8080/"
        },
        "outputId": "b0195475-f885-442a-8503-d6358063b43b"
      },
      "execution_count": null,
      "outputs": [
        {
          "output_type": "execute_result",
          "data": {
            "text/plain": [
              "0.9999999986637949"
            ]
          },
          "metadata": {},
          "execution_count": 17
        }
      ]
    },
    {
      "cell_type": "code",
      "source": [
        "rotation = np.arctan2(r2.X, r1.X)\n",
        "rotation"
      ],
      "metadata": {
        "id": "oLpvqD4InyZU",
        "colab": {
          "base_uri": "https://localhost:8080/"
        },
        "outputId": "c7fb99df-9e47-4fa3-aa27-faf24a01726f"
      },
      "execution_count": null,
      "outputs": [
        {
          "output_type": "execute_result",
          "data": {
            "text/plain": [
              "0.09999999948399042"
            ]
          },
          "metadata": {},
          "execution_count": 18
        }
      ]
    },
    {
      "cell_type": "code",
      "source": [
        "translation = T.X\n",
        "translation"
      ],
      "metadata": {
        "id": "D5vdBjHzn4OI",
        "colab": {
          "base_uri": "https://localhost:8080/"
        },
        "outputId": "0cb3d8bb-1d00-492e-aeec-6e518d1e1c0c"
      },
      "execution_count": null,
      "outputs": [
        {
          "output_type": "execute_result",
          "data": {
            "text/plain": [
              "array([[1.        ],\n",
              "       [0.50000001]])"
            ]
          },
          "metadata": {},
          "execution_count": 19
        }
      ]
    },
    {
      "cell_type": "code",
      "source": [],
      "metadata": {
        "id": "6-96CsAWoCYU"
      },
      "execution_count": null,
      "outputs": []
    }
  ]
}